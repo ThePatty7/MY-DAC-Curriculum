{
 "cells": [
  {
   "cell_type": "markdown",
   "metadata": {},
   "source": [
    "# Introduction"
   ]
  },
  {
   "cell_type": "markdown",
   "metadata": {},
   "source": [
    "## What is Machine Learning?"
   ]
  },
  {
   "cell_type": "markdown",
   "metadata": {},
   "source": [
    "**Definition:** \\\n",
    "Machine Learning focuses on building systems that can learn from and make decisions based on data. Instead of being explicitly programmed to perform a task, a machine learning model is trained on a dataset to identify patterns and make predictions or decisions without human intervention.\n",
    "\n",
    "**A general pipeline:** \\\n",
    "1.) Data Collection - Collecting data relevant to the problem you want to solve. \\\n",
    "2.) Training  - Using this dataset to train a model, which involves adjusting the model's parameters to minimize errors in its predictions. \\\n",
    "3.) Evaluation - Testing the model on new, unseen data to evaluate its performance. \\\n",
    "4.) Prediction + Deployment - Using the trained model to make predictions or decisions on new data, and deploying it so that other users may use it as well."
   ]
  },
  {
   "cell_type": "markdown",
   "metadata": {},
   "source": [
    "# 1 - Linear Regression"
   ]
  },
  {
   "cell_type": "markdown",
   "metadata": {},
   "source": [
    "## Univariate (Simple) Linear Regression "
   ]
  },
  {
   "cell_type": "markdown",
   "metadata": {},
   "source": [
    "Univariate linear regression is a statistical method used to model the relationship between a single independent variable $x$ and a dependent variable $y$ by fitting a linear equation to observed data. It aims to predict the dependent variable based on the value of the independent variable.\n",
    "\n",
    "equation of line: $$y_i = wx_i + b + \\epsilon_i$$\n",
    "equation of your prediction: $$ \\hat{y_i} = wx_i + b$$\n",
    "\n",
    "How do you generate a line? You need a value for the Slope and Intercept. Use Least Squares method / Maximum Likelihood Estimation to determine. \n",
    "\n",
    "Objective: \\\n",
    "Minimise the sum of squared error terms ie: $$ \\min_{w,b} \\sum_i \\epsilon_i^2 = \\min_{w,b} \\sum_i (y_i - \\hat{y}_i)^2 $$\n"
   ]
  },
  {
   "cell_type": "markdown",
   "metadata": {},
   "source": [
    "## Multivariate Linear Regression"
   ]
  },
  {
   "cell_type": "markdown",
   "metadata": {},
   "source": [
    "Identical to the univariate case except you're now modelling the relationship between $y$ with multiple other independent variables/features $x_1,x_2...x_n$.\n",
    "\n",
    "equation of line: $$y_i = w_1x_{1,i} + w_2x_{2,i} + ...  + b + \\epsilon_i$$\n",
    "equation of your prediction: $$ \\hat{y_i} = w_1x_{1,i} + w_2x_{2,i} + ... + b$$"
   ]
  },
  {
   "cell_type": "markdown",
   "metadata": {},
   "source": [
    "## Evaluating Performance"
   ]
  },
  {
   "cell_type": "markdown",
   "metadata": {},
   "source": [
    "Two metrics can be used **Mean Squared Error (MSE)** and **$R^2$ value**.\n",
    "\n",
    "We split our model into training data and validation/test data. Apply regression line fitted on train data into validation data to evaluate performance. MSE is pretty self explanatory, $R^2$ measures the proportion of variance of the dependent/target feature that is explained by the independent features. \n",
    "\n",
    "$$\n",
    " MSE = \\frac{1}{n}\\sum_i (y_i - \\hat{y}_i)^2 \\\\\n",
    " R^2 = \\frac{SSR}{SST} = 1 - \\frac{SSE}{SST}\n",
    "$$\n",
    "\n",
    "MSE is also known as the loss function - a function that maps events or values of variables onto a real number intuitively representing some \"cost\" associated with the event.\n"
   ]
  },
  {
   "cell_type": "markdown",
   "metadata": {},
   "source": [
    "## Overfitting & Regularization"
   ]
  },
  {
   "cell_type": "markdown",
   "metadata": {},
   "source": [
    "Overfitting happens when your model fits the training data too well; performs worse on test data. \\\n",
    "Regularization tries to prevent this by adding a penalty term to a model's loss function.\n",
    "\n",
    "In Linear Regression:\n",
    "$$\n",
    "\\frac{1}{n}\\sum_i (y_i - \\hat{y}_i)^2 + \\text{Regularization Term}\n",
    "$$\n",
    "Your left term reduces losses, right term prevents losses from decreasing excessively. Now let's see this in action!\n"
   ]
  },
  {
   "cell_type": "code",
   "execution_count": null,
   "metadata": {},
   "outputs": [],
   "source": [
    "# Import our libraries \n",
    "import pandas as pd\n",
    "from scipy import optimize\n",
    "import matplotlib.pyplot as plt\n",
    "import numpy as np\n"
   ]
  },
  {
   "cell_type": "code",
   "execution_count": 3,
   "metadata": {},
   "outputs": [
    {
     "name": "stdout",
     "output_type": "stream",
     "text": [
      "  message: Optimization terminated successfully.\n",
      "  success: True\n",
      "   status: 0\n",
      "      fun: 0.043291394527699666\n",
      "        x: [ 2.970e-01  4.790e-01]\n",
      "      nit: 7\n",
      "      jac: [-1.616e-07 -6.841e-07]\n",
      " hess_inv: [[ 4.976e-01 -7.107e-02]\n",
      "            [-7.107e-02  1.944e+00]]\n",
      "     nfev: 24\n",
      "     njev: 8\n"
     ]
    }
   ],
   "source": [
    "# y = ax + b + Gaussian noise \n",
    "def reg_data(a, b, n, s):\n",
    "   rtn_x, rtn_y = [], []\n",
    "   for i in range(n):\n",
    "       x = np.random.normal(0.0, 0.5)\n",
    "       y = a * x + b + np.random.normal(0.0, s)\n",
    "       rtn_x.append(x) # input features\n",
    "       rtn_y.append(y) # target values\n",
    "   return np.array(rtn_x).reshape(-1,1), np.array(rtn_y)\n",
    "\n",
    "# Generate 1,000 data points drawn from y = ax + b + noise\n",
    "# s : standard deviation of the noise distribution\n",
    "x, y = reg_data(a=0.5, b=0.3, n=1000, s=0.2)\n",
    "\n",
    "# y = w0 + w1*x1 + w2*x2 + ... → w0*x0 + w1*x1 + w2*x2 + ... (x0 = 1)\n",
    "# y = [w0, w1, w2, ...] * [x0, x1, x2, ...].T  (T : transpose)\n",
    "# y = W * X.T\n",
    "X = np.hstack([np.ones([x.shape[0], 1]), x]) # horizontally stack a column of ones (intercept) with input features\n",
    "REG_CONST = 0.01   # regularization constant\n",
    "\n",
    "# Loss function : Mean Squared Error\n",
    "def ols_loss(W, args):\n",
    "    e = np.dot(W, X.T) - y\n",
    "    mse = np.mean(np.square(e))  # mean squared error\n",
    "    loss = mse + REG_CONST * np.sum(np.square(W)) # this is Ridge (L2) Regularization\n",
    "    \n",
    "    # save W and loss\n",
    "    if args[0] == True:\n",
    "        trace_W.append([W, loss])\n",
    "    return loss\n",
    "\n",
    "# Perform optimization process\n",
    "trace_W = []\n",
    "result = optimize.minimize(ols_loss, [-4., 4], args=[True]) # minimise loss function starting from initial weights [-4,4]\n",
    "print(result) "
   ]
  },
  {
   "cell_type": "code",
   "execution_count": null,
   "metadata": {},
   "outputs": [],
   "source": [
    "# # for more info on the output visit: https://docs.scipy.org/doc/scipy/reference/generated/scipy.optimize.minimize.html\n",
    "# # x: is the vector of the optimal solution\n",
    "\n",
    "# # Plot the training data and draw the regression line.\n",
    "# y_hat = np.dot(result.x, X.T) # predicted values using the optimized weights and the design matrix\n",
    "# plt.figure(figsize=(6, 6)) \n",
    "# plt.scatter(x, y, s=5, c='r')\n",
    "# plt.plot(x, y_hat, c='blue')\n",
    "# plt.axvline(x=0, ls='--', lw=0.5, c='black')\n",
    "# plt.axhline(y=0, ls='--', lw=0.5, c='black')\n",
    "# plt.show()\n",
    "\n",
    "# # Draw the loss function and the path to the optimal point.\n",
    "# m = 5\n",
    "# t = 0.1\n",
    "# w0, w1 = np.meshgrid(np.arange(-m, m, t), np.arange(-m, m, t))\n",
    "# zs = np.array([ols_loss([a,b], [False]) for [a, b] in zip(np.ravel(w0), np.ravel(w1))])\n",
    "# z = zs.reshape(w0.shape)\n",
    "\n",
    "# fig = plt.figure(figsize=(7, 7))\n",
    "# ax = fig.add_subplot(111, projection='3d')\n",
    "\n",
    "# # Draw the surface of the loss function\n",
    "# ax.plot_surface(w0, w1, z, alpha=0.7)\n",
    "\n",
    "# # Draw the path to the optimal point.\n",
    "# b = np.array([tw0 for [tw0, tw1], td in trace_W])\n",
    "# w = np.array([tw1 for [tw0, tw1], td in trace_W])\n",
    "# d = np.array([td for [tw0, tw1], td in trace_W])\n",
    "# ax.plot(b, w, d, marker='o', color=\"r\")\n",
    "\n",
    "# ax.set_xlabel('W0 (bias)')\n",
    "# ax.set_ylabel('W1 (slope)')\n",
    "# ax.set_zlabel('distance')\n",
    "# ax.azim = -50\n",
    "# ax.elev = 50\n",
    "# plt.show()\n",
    "\n",
    "# # Check the R2 score\n",
    "# sst = np.sum(np.square(y - np.mean(y)))  # total sum of squares\n",
    "# sse = np.sum(np.square(y - y_hat))       # sum of squares of error\n",
    "# r2 = 1 - sse / sst\n",
    "# print('\\nR2 score = {:.4f}'.format(r2))"
   ]
  },
  {
   "cell_type": "markdown",
   "metadata": {},
   "source": [
    "## Feature Scaling & Implementation in sklearn"
   ]
  },
  {
   "cell_type": "markdown",
   "metadata": {},
   "source": [
    "Feature scaling (Normalization/Standardization) is a technique that shifts data closer toward the origin and scales the different feature $x_i, x_j$ weights to ensure that they are not significantly different. If they are different, can also affect the estimation of our slope $w$ and intercept $b$. \\\n",
    "During regularization, it may also unfairly impose greater penalties on some coefficients over others. "
   ]
  },
  {
   "cell_type": "markdown",
   "metadata": {},
   "source": [
    "Now let's explore the Boston.csv dataset!"
   ]
  },
  {
   "cell_type": "code",
   "execution_count": 19,
   "metadata": {},
   "outputs": [],
   "source": [
    "# Import our libraries\n",
    "import pandas as pd\n",
    "from sklearn.preprocessing import StandardScaler\n",
    "from sklearn.model_selection import train_test_split\n",
    "from sklearn.linear_model import LinearRegression, Ridge, Lasso\n",
    "from sklearn.metrics import r2_score \n"
   ]
  },
  {
   "cell_type": "code",
   "execution_count": 8,
   "metadata": {},
   "outputs": [
    {
     "data": {
      "text/plain": [
       "(506, 14)"
      ]
     },
     "execution_count": 8,
     "metadata": {},
     "output_type": "execute_result"
    }
   ],
   "source": [
    "# Read our data into a dataframe \n",
    "data = pd.read_csv('data/Boston.csv')\n",
    "data.shape\n"
   ]
  },
  {
   "cell_type": "markdown",
   "metadata": {},
   "source": [
    "These are what the column names represent:\n",
    "* CRIM - per capita crime rate by town\n",
    "* ZN - proportion of residential land zoned for lots over 25,000 sq.ft.\n",
    "* INDUS - proportion of non-retail business acres per town.\n",
    "* CHAS - Charles River dummy variable (1 if tract bounds river; 0 otherwise)\n",
    "* NOX - nitric oxides concentration (parts per 10 million)\n",
    "* RM - average number of rooms per dwelling\n",
    "* AGE - proportion of owner-occupied units built prior to 1940\n",
    "* DIS - weighted distances to five Boston employment centres\n",
    "* RAD - index of accessibility to radial highways\n",
    "* TAX - full-value property-tax rate per $10,000\n",
    "* PTRATIO - pupil-teacher ratio by town\n",
    "* B - 1000(Bk - 0.63)^2 where Bk is the proportion of blacks by town\n",
    "* LSTAT - % lower status of the population\n",
    "* MEDV - Median value of owner-occupied homes in $1000's"
   ]
  },
  {
   "cell_type": "code",
   "execution_count": 29,
   "metadata": {},
   "outputs": [
    {
     "data": {
      "text/html": [
       "<div>\n",
       "<style scoped>\n",
       "    .dataframe tbody tr th:only-of-type {\n",
       "        vertical-align: middle;\n",
       "    }\n",
       "\n",
       "    .dataframe tbody tr th {\n",
       "        vertical-align: top;\n",
       "    }\n",
       "\n",
       "    .dataframe thead th {\n",
       "        text-align: right;\n",
       "    }\n",
       "</style>\n",
       "<table border=\"1\" class=\"dataframe\">\n",
       "  <thead>\n",
       "    <tr style=\"text-align: right;\">\n",
       "      <th></th>\n",
       "      <th>crim</th>\n",
       "      <th>zn</th>\n",
       "      <th>indus</th>\n",
       "      <th>chas</th>\n",
       "      <th>nox</th>\n",
       "      <th>rm</th>\n",
       "      <th>age</th>\n",
       "      <th>dis</th>\n",
       "      <th>rad</th>\n",
       "      <th>tax</th>\n",
       "      <th>ptratio</th>\n",
       "      <th>lstat</th>\n",
       "      <th>price</th>\n",
       "    </tr>\n",
       "    <tr>\n",
       "      <th>Unnamed: 0</th>\n",
       "      <th></th>\n",
       "      <th></th>\n",
       "      <th></th>\n",
       "      <th></th>\n",
       "      <th></th>\n",
       "      <th></th>\n",
       "      <th></th>\n",
       "      <th></th>\n",
       "      <th></th>\n",
       "      <th></th>\n",
       "      <th></th>\n",
       "      <th></th>\n",
       "      <th></th>\n",
       "    </tr>\n",
       "  </thead>\n",
       "  <tbody>\n",
       "    <tr>\n",
       "      <th>1</th>\n",
       "      <td>0.00632</td>\n",
       "      <td>18.0</td>\n",
       "      <td>2.31</td>\n",
       "      <td>0</td>\n",
       "      <td>0.538</td>\n",
       "      <td>6.575</td>\n",
       "      <td>65.2</td>\n",
       "      <td>4.0900</td>\n",
       "      <td>1</td>\n",
       "      <td>296</td>\n",
       "      <td>15.3</td>\n",
       "      <td>4.98</td>\n",
       "      <td>24.0</td>\n",
       "    </tr>\n",
       "    <tr>\n",
       "      <th>2</th>\n",
       "      <td>0.02731</td>\n",
       "      <td>0.0</td>\n",
       "      <td>7.07</td>\n",
       "      <td>0</td>\n",
       "      <td>0.469</td>\n",
       "      <td>6.421</td>\n",
       "      <td>78.9</td>\n",
       "      <td>4.9671</td>\n",
       "      <td>2</td>\n",
       "      <td>242</td>\n",
       "      <td>17.8</td>\n",
       "      <td>9.14</td>\n",
       "      <td>21.6</td>\n",
       "    </tr>\n",
       "    <tr>\n",
       "      <th>3</th>\n",
       "      <td>0.02729</td>\n",
       "      <td>0.0</td>\n",
       "      <td>7.07</td>\n",
       "      <td>0</td>\n",
       "      <td>0.469</td>\n",
       "      <td>7.185</td>\n",
       "      <td>61.1</td>\n",
       "      <td>4.9671</td>\n",
       "      <td>2</td>\n",
       "      <td>242</td>\n",
       "      <td>17.8</td>\n",
       "      <td>4.03</td>\n",
       "      <td>34.7</td>\n",
       "    </tr>\n",
       "    <tr>\n",
       "      <th>4</th>\n",
       "      <td>0.03237</td>\n",
       "      <td>0.0</td>\n",
       "      <td>2.18</td>\n",
       "      <td>0</td>\n",
       "      <td>0.458</td>\n",
       "      <td>6.998</td>\n",
       "      <td>45.8</td>\n",
       "      <td>6.0622</td>\n",
       "      <td>3</td>\n",
       "      <td>222</td>\n",
       "      <td>18.7</td>\n",
       "      <td>2.94</td>\n",
       "      <td>33.4</td>\n",
       "    </tr>\n",
       "    <tr>\n",
       "      <th>5</th>\n",
       "      <td>0.06905</td>\n",
       "      <td>0.0</td>\n",
       "      <td>2.18</td>\n",
       "      <td>0</td>\n",
       "      <td>0.458</td>\n",
       "      <td>7.147</td>\n",
       "      <td>54.2</td>\n",
       "      <td>6.0622</td>\n",
       "      <td>3</td>\n",
       "      <td>222</td>\n",
       "      <td>18.7</td>\n",
       "      <td>5.33</td>\n",
       "      <td>36.2</td>\n",
       "    </tr>\n",
       "  </tbody>\n",
       "</table>\n",
       "</div>"
      ],
      "text/plain": [
       "               crim    zn  indus  chas    nox     rm   age     dis  rad  tax  \\\n",
       "Unnamed: 0                                                                     \n",
       "1           0.00632  18.0   2.31     0  0.538  6.575  65.2  4.0900    1  296   \n",
       "2           0.02731   0.0   7.07     0  0.469  6.421  78.9  4.9671    2  242   \n",
       "3           0.02729   0.0   7.07     0  0.469  7.185  61.1  4.9671    2  242   \n",
       "4           0.03237   0.0   2.18     0  0.458  6.998  45.8  6.0622    3  222   \n",
       "5           0.06905   0.0   2.18     0  0.458  7.147  54.2  6.0622    3  222   \n",
       "\n",
       "            ptratio  lstat  price  \n",
       "Unnamed: 0                         \n",
       "1              15.3   4.98   24.0  \n",
       "2              17.8   9.14   21.6  \n",
       "3              17.8   4.03   34.7  \n",
       "4              18.7   2.94   33.4  \n",
       "5              18.7   5.33   36.2  "
      ]
     },
     "execution_count": 29,
     "metadata": {},
     "output_type": "execute_result"
    }
   ],
   "source": [
    "# Display the first 5 rows of the dataframe (try DataWrangler)\n",
    "data.head()"
   ]
  },
  {
   "cell_type": "code",
   "execution_count": 11,
   "metadata": {},
   "outputs": [
    {
     "data": {
      "text/html": [
       "<div>\n",
       "<style scoped>\n",
       "    .dataframe tbody tr th:only-of-type {\n",
       "        vertical-align: middle;\n",
       "    }\n",
       "\n",
       "    .dataframe tbody tr th {\n",
       "        vertical-align: top;\n",
       "    }\n",
       "\n",
       "    .dataframe thead th {\n",
       "        text-align: right;\n",
       "    }\n",
       "</style>\n",
       "<table border=\"1\" class=\"dataframe\">\n",
       "  <thead>\n",
       "    <tr style=\"text-align: right;\">\n",
       "      <th></th>\n",
       "      <th>crim</th>\n",
       "      <th>zn</th>\n",
       "      <th>indus</th>\n",
       "      <th>chas</th>\n",
       "      <th>nox</th>\n",
       "      <th>rm</th>\n",
       "      <th>age</th>\n",
       "      <th>dis</th>\n",
       "      <th>rad</th>\n",
       "      <th>tax</th>\n",
       "      <th>ptratio</th>\n",
       "      <th>lstat</th>\n",
       "      <th>price</th>\n",
       "    </tr>\n",
       "    <tr>\n",
       "      <th>Unnamed: 0</th>\n",
       "      <th></th>\n",
       "      <th></th>\n",
       "      <th></th>\n",
       "      <th></th>\n",
       "      <th></th>\n",
       "      <th></th>\n",
       "      <th></th>\n",
       "      <th></th>\n",
       "      <th></th>\n",
       "      <th></th>\n",
       "      <th></th>\n",
       "      <th></th>\n",
       "      <th></th>\n",
       "    </tr>\n",
       "  </thead>\n",
       "  <tbody>\n",
       "    <tr>\n",
       "      <th>1</th>\n",
       "      <td>0.00632</td>\n",
       "      <td>18.0</td>\n",
       "      <td>2.31</td>\n",
       "      <td>0</td>\n",
       "      <td>0.538</td>\n",
       "      <td>6.575</td>\n",
       "      <td>65.2</td>\n",
       "      <td>4.0900</td>\n",
       "      <td>1</td>\n",
       "      <td>296</td>\n",
       "      <td>15.3</td>\n",
       "      <td>4.98</td>\n",
       "      <td>24.0</td>\n",
       "    </tr>\n",
       "    <tr>\n",
       "      <th>2</th>\n",
       "      <td>0.02731</td>\n",
       "      <td>0.0</td>\n",
       "      <td>7.07</td>\n",
       "      <td>0</td>\n",
       "      <td>0.469</td>\n",
       "      <td>6.421</td>\n",
       "      <td>78.9</td>\n",
       "      <td>4.9671</td>\n",
       "      <td>2</td>\n",
       "      <td>242</td>\n",
       "      <td>17.8</td>\n",
       "      <td>9.14</td>\n",
       "      <td>21.6</td>\n",
       "    </tr>\n",
       "    <tr>\n",
       "      <th>3</th>\n",
       "      <td>0.02729</td>\n",
       "      <td>0.0</td>\n",
       "      <td>7.07</td>\n",
       "      <td>0</td>\n",
       "      <td>0.469</td>\n",
       "      <td>7.185</td>\n",
       "      <td>61.1</td>\n",
       "      <td>4.9671</td>\n",
       "      <td>2</td>\n",
       "      <td>242</td>\n",
       "      <td>17.8</td>\n",
       "      <td>4.03</td>\n",
       "      <td>34.7</td>\n",
       "    </tr>\n",
       "    <tr>\n",
       "      <th>4</th>\n",
       "      <td>0.03237</td>\n",
       "      <td>0.0</td>\n",
       "      <td>2.18</td>\n",
       "      <td>0</td>\n",
       "      <td>0.458</td>\n",
       "      <td>6.998</td>\n",
       "      <td>45.8</td>\n",
       "      <td>6.0622</td>\n",
       "      <td>3</td>\n",
       "      <td>222</td>\n",
       "      <td>18.7</td>\n",
       "      <td>2.94</td>\n",
       "      <td>33.4</td>\n",
       "    </tr>\n",
       "    <tr>\n",
       "      <th>5</th>\n",
       "      <td>0.06905</td>\n",
       "      <td>0.0</td>\n",
       "      <td>2.18</td>\n",
       "      <td>0</td>\n",
       "      <td>0.458</td>\n",
       "      <td>7.147</td>\n",
       "      <td>54.2</td>\n",
       "      <td>6.0622</td>\n",
       "      <td>3</td>\n",
       "      <td>222</td>\n",
       "      <td>18.7</td>\n",
       "      <td>5.33</td>\n",
       "      <td>36.2</td>\n",
       "    </tr>\n",
       "  </tbody>\n",
       "</table>\n",
       "</div>"
      ],
      "text/plain": [
       "               crim    zn  indus  chas    nox     rm   age     dis  rad  tax  \\\n",
       "Unnamed: 0                                                                     \n",
       "1           0.00632  18.0   2.31     0  0.538  6.575  65.2  4.0900    1  296   \n",
       "2           0.02731   0.0   7.07     0  0.469  6.421  78.9  4.9671    2  242   \n",
       "3           0.02729   0.0   7.07     0  0.469  7.185  61.1  4.9671    2  242   \n",
       "4           0.03237   0.0   2.18     0  0.458  6.998  45.8  6.0622    3  222   \n",
       "5           0.06905   0.0   2.18     0  0.458  7.147  54.2  6.0622    3  222   \n",
       "\n",
       "            ptratio  lstat  price  \n",
       "Unnamed: 0                         \n",
       "1              15.3   4.98   24.0  \n",
       "2              17.8   9.14   21.6  \n",
       "3              17.8   4.03   34.7  \n",
       "4              18.7   2.94   33.4  \n",
       "5              18.7   5.33   36.2  "
      ]
     },
     "execution_count": 11,
     "metadata": {},
     "output_type": "execute_result"
    }
   ],
   "source": [
    "# Convert the first column into the index\n",
    "# alternatively, pd.read_csv('datasets/Boston.csv', index_col=0) can be used\n",
    "data.set_index(data.columns[0], inplace=True)\n",
    "\n",
    "# Rename the 'medv' column to 'price'\n",
    "data.rename(columns={'medv': 'price'}, inplace=True)\n",
    "\n",
    "# Display the first few rows to verify the changes\n",
    "data.head()"
   ]
  },
  {
   "cell_type": "code",
   "execution_count": 27,
   "metadata": {},
   "outputs": [],
   "source": [
    "# Separate the features (x) and the target variable (y)\n",
    "y = data['price']\n",
    "x = data.drop(columns=['price'])\n",
    "\n",
    "# Split the dataset into training and test data\n",
    "x_train, x_test, y_train, y_test = train_test_split(x, y)\n",
    "\n",
    "# Initialize the scaler\n",
    "scaler = StandardScaler()\n",
    "# Fit the scaler on the training data and transform it\n",
    "\n",
    "x_train_scaled = scaler.fit_transform(x_train)\n",
    "\n",
    "# Transform the test data using the same scaler\n",
    "\n",
    "x_test_scaled = scaler.transform(x_test)"
   ]
  },
  {
   "cell_type": "code",
   "execution_count": 40,
   "metadata": {},
   "outputs": [
    {
     "data": {
      "image/png": "[encoded data removed]",
      "text/plain": [
       "<Figure size 600x500 with 1 Axes>"
      ]
     },
     "metadata": {},
     "output_type": "display_data"
    },
    {
     "name": "stdout",
     "output_type": "stream",
     "text": [
      "\n",
      "R2 (Linear Regression) = 0.710\n",
      "R2 (Ridge) = 0.710\n",
      "R2 (Lasso) = 0.710\n"
     ]
    }
   ],
   "source": [
    "# 1. LinearRegression() -> this applies mean centering internally to the data \n",
    "model = LinearRegression()\n",
    "model.fit(x_train_scaled, y_train)\n",
    "y_pred = model.predict(x_test_scaled)\n",
    "\n",
    "# trying to get the independent variables of y out\n",
    "\n",
    "\n",
    "# Visually check the predicted and actual y values ​​of the test data.\n",
    "plt.figure(figsize=(6, 5))\n",
    "plt.scatter(y_test, y_pred, s=20, c='r')\n",
    "plt.xlabel('y_test')\n",
    "plt.ylabel('y_pred')\n",
    "plt.show()\n",
    "\n",
    "# Calculate the R2 score\n",
    "r2 = model.score(x_test_scaled, y_test)\n",
    "print('\\nR2 (Linear Regression) = {:.3f}'.format(r2))\n",
    "\n",
    "# 2. Ridge regularization\n",
    "model = Ridge(alpha=0.01)\n",
    "model.fit(x_train_scaled, y_train)\n",
    "r2 = model.score(x_test_scaled, y_test)\n",
    "print('R2 (Ridge) = {:.3f}'.format(r2))\n",
    "\n",
    "# 3. Lasso regularization\n",
    "model = Lasso(alpha=0.01)\n",
    "model.fit(x_train_scaled, y_train)\n",
    "r2 = model.score(x_test_scaled, y_test)\n",
    "print('R2 (Lasso) = {:.3f}'.format(r2))\n",
    "\n",
    "\n",
    "# predicted value (y_pred)\n",
    "# actual value (y_test)"
   ]
  },
  {
   "cell_type": "markdown",
   "metadata": {},
   "source": [
    "## Locally Weighted Linear Regression"
   ]
  },
  {
   "cell_type": "markdown",
   "metadata": {},
   "source": [
    "$\\tau$ is the standard deviation of the normal distribution and can adjust the range of neighbours; $\\tau$ is a hyperparameter.\n",
    "\n",
    "A hyperparameter is a parameter whose value is set before the learning process begins and controls the behavior of the training algorithm."
   ]
  },
  {
   "cell_type": "markdown",
   "metadata": {},
   "source": [
    "Locally Weighted Linear Regression (LWLR) is a non-parametric algorithm that fits multiple linear regressions to different subsets of the data, giving more weight to points closer to the target point. This allows the model to capture local patterns and variations in the data, making it highly flexible and adaptive to changes in the data distribution.\n",
    "\n",
    "Weighted Cost Function - calculate distance $d$ between test data point $px$ and all training data points, and calculate weight $w$ for each datapoint with a normal distribution for $d$. \n",
    "\n",
    "$$\n",
    "d_i = |px - x_i| \\\\\n",
    "    \n",
    "w_i = \\exp\\left(-\\frac{d^2}{2\\tau^2}\\right) \\quad \n",
    "    \\begin{cases}\n",
    "        d_i \\to 0 : w_i \\to 1 \\\\\n",
    "        d_i \\to \\infty : w_i \\to 0\n",
    "    \\end{cases} \\\\\n",
    "\n",
    "\\\\\n",
    "    \n",
    "\n",
    "\\min_{w,b} \\sum_i \\epsilon_i^2 = \\min_{w,b} \\sum_i w_i(y_i - \\hat{y}_i)^2\n",
    "$$"
   ]
  },
  {
   "cell_type": "code",
   "execution_count": null,
   "metadata": {},
   "outputs": [],
   "source": [
    "# Read our data into a dataframe \n",
    "data = pd.read_csv('datasets/Boston.csv', index_col=0)\n",
    "data.rename(columns={'medv': 'price'}, inplace=True)\n",
    "\n",
    "# Separate the features (x) and the target variable (y)\n",
    "y = data['price']\n",
    "x = data.drop(columns=['price'])\n",
    "\n",
    "\n",
    "# Split the dataset into training and test data\n",
    "x_train, x_test, y_train, y_test = train_test_split(x, y, test_size=0.2, random_state=42)\n",
    "\n",
    "# Initialize the scaler\n",
    "scaler = StandardScaler()\n",
    "# Fit the scaler on the training data and transform it\n",
    "x_train_scaled = scaler.fit_transform(x_train)\n",
    "# Transform the test data using the same scaler\n",
    "x_test_scaled = scaler.transform(x_test)\n",
    "\n"
   ]
  },
  {
   "cell_type": "code",
   "execution_count": null,
   "metadata": {},
   "outputs": [],
   "source": [
    "# train: training data, test: test data point to be predicted\n",
    "\n",
    "# we set tau = 50.0\n",
    "\n",
    "# Visually check the actual and predicted y values ​​of the test data.\n"
   ]
  },
  {
   "cell_type": "markdown",
   "metadata": {},
   "source": [
    "# 2 - Logistic Regression"
   ]
  },
  {
   "cell_type": "markdown",
   "metadata": {},
   "source": [
    "## Simple (Binary) Logistic Regression"
   ]
  },
  {
   "cell_type": "markdown",
   "metadata": {},
   "source": [
    "Logistic Regression is a statistical method for analyzing datasets in which there are one or more independent $y$ variables that determine an outcome, used for binary classification problems. It estimates the probability that a given input point belongs to a certain class using a logistic function.\n",
    "\n",
    "logistic function formula:\n",
    "$$\n",
    "\\hat{y}_i = \\frac{1}{1 + e^{-(wx_i + b)}}\n",
    "$$\n"
   ]
  },
  {
   "cell_type": "markdown",
   "metadata": {},
   "source": [
    "In Linear Regression, we used Maxmimum Likelihood Estimation (MLE) to generate an objective function. In the same way, Logistic Regression can also use MLE to generate an objective function that minimises binary cross entropy."
   ]
  },
  {
   "cell_type": "code",
   "execution_count": null,
   "metadata": {},
   "outputs": [],
   "source": [
    "# import Libraries\n"
   ]
  },
  {
   "cell_type": "code",
   "execution_count": null,
   "metadata": {},
   "outputs": [],
   "source": [
    "# Read in breast cancer dataset\n"
   ]
  },
  {
   "cell_type": "code",
   "execution_count": null,
   "metadata": {},
   "outputs": [],
   "source": [
    "# Split the data into training and test data\n",
    "\n",
    "\n",
    "# Initialize the StandardScaler\n",
    "\n",
    "\n",
    "# Fit the scaler on the training data and transform both training and test data\n"
   ]
  },
  {
   "cell_type": "code",
   "execution_count": null,
   "metadata": {},
   "outputs": [],
   "source": [
    "# regularization constant (strength)\n",
    "REG_CONST = 0.01\n",
    "\n",
    "# Create a model and fit it to the training data.\n",
    "# C := inverse of regularization strength\n",
    "\n",
    "\n",
    "# Predict the classes of test data and measure the accuracy of test data\n"
   ]
  },
  {
   "cell_type": "code",
   "execution_count": null,
   "metadata": {},
   "outputs": [],
   "source": [
    "# Get prediction probabilities\n",
    "\n",
    "\n",
    "# Calculate ROC curve and AUC\n",
    "\n",
    "\n",
    "## Plot ROC curve\n",
    "# plt.figure(figsize=(10, 6))\n",
    "# plt.plot(fpr, tpr, color='darkorange', lw=2, label=f'ROC curve (AUC = {roc_auc:.2f})')\n",
    "# plt.plot([0, 1], [0, 1], color='navy', lw=2, linestyle='--')\n",
    "# plt.xlim([0.0, 1.0])\n",
    "# plt.ylim([0.0, 1.05])\n",
    "# plt.xlabel('False Positive Rate')\n",
    "# plt.ylabel('True Positive Rate')\n",
    "# plt.title('Receiver Operating Characteristic (ROC) Curve')\n",
    "# plt.legend(loc=\"lower right\")\n",
    "# plt.show()\n",
    "\n",
    "## Create and plot confusion matrix\n",
    "# cm = confusion_matrix(y_test, y_pred)\n",
    "# disp = ConfusionMatrixDisplay(confusion_matrix=cm, display_labels=model.classes_)\n",
    "# disp.plot(cmap=plt.cm.Blues)\n",
    "# plt.title('Confusion Matrix')\n",
    "# plt.show()\n",
    "\n",
    "# # Calculate F1 score\n",
    "# f1 = f1_score(y_test, y_pred)\n",
    "\n",
    "# # Print AUC score\n",
    "# print(f'AUC Score: {roc_auc:.3f}')\n",
    "# print(f'F1 Score: {f1:.3f}')\n",
    "\n",
    "# # Print Classification Report \n",
    "# print(\"\\nClassification Report:\")\n",
    "# print(classification_report(y_test, y_pred))"
   ]
  },
  {
   "cell_type": "markdown",
   "metadata": {},
   "source": [
    "## Multiclass Logistic Regression"
   ]
  },
  {
   "cell_type": "markdown",
   "metadata": {},
   "source": [
    "Multiclass Logistic Regression extends binary logistic regression to handle multiple classes by using techniques like one-vs-rest (OvR) or softmax regression. It estimates the probability of each class and assigns the input to the class with the highest probability.\n",
    "\n",
    "Here we will be looking at softmax regression. To obtain the loss function for softmax regression, we can use MLE and minimise cross entropy, which is a generalised form of binary cross entropy.  "
   ]
  },
  {
   "cell_type": "code",
   "execution_count": null,
   "metadata": {},
   "outputs": [],
   "source": [
    "# Let's load in the iris dataset\n"
   ]
  },
  {
   "cell_type": "markdown",
   "metadata": {},
   "source": [
    "Now that we have more things to process, let's break it down. We want to:\n",
    "\n",
    "1. Deal with categorical data \n",
    "2. Scale numeric values with a scaling function\n",
    "\n",
    "What other types of processes do we foresee having to do with our data? Hint: what about missing values? what about outliers?\n",
    "\n",
    "It would be tedious to go through all these processes manually - sklearn has a Pipeline class that simplifies these preprocessing/feature engineering steps "
   ]
  },
  {
   "cell_type": "code",
   "execution_count": null,
   "metadata": {},
   "outputs": [],
   "source": [
    "# Split the data into the training and test data\n",
    "\n",
    "\n",
    "\n",
    "# Fit the scaler on the training data and transform both training and test data\n",
    "\n",
    "# regularization constant (strength)\n",
    "REG_CONST = 0.01\n",
    "\n",
    "# Create a model and fit it to the training data.\n",
    "# C := inverse of regularization strength, stronger regularization with smaller values\n",
    "\n",
    "# Predict the classes of test data and measure the accuracy of test data\n"
   ]
  },
  {
   "cell_type": "code",
   "execution_count": null,
   "metadata": {},
   "outputs": [],
   "source": [
    "# # Get prediction probabilities\n",
    "# y_pred_proba = model.predict_proba(x_test_scaled)[:, 1]\n",
    "\n",
    "# # Create and plot confusion matrix\n",
    "# cm = confusion_matrix(y_test, y_pred)\n",
    "# disp = ConfusionMatrixDisplay(confusion_matrix=cm, display_labels=model.classes_)\n",
    "# disp.plot(cmap=plt.cm.Blues)\n",
    "# plt.title('Confusion Matrix')\n",
    "# plt.show()\n",
    "\n",
    "# # Calculate F1 score\n",
    "# f1 = f1_score(y_test, y_pred, average='weighted')\n",
    "# print(f'F1 Score: {f1:.3f}')\n",
    "\n",
    "# # Print Classification Report \n",
    "# print(\"\\nClassification Report:\")\n",
    "# print(classification_report(y_test, y_pred))"
   ]
  },
  {
   "cell_type": "code",
   "execution_count": null,
   "metadata": {},
   "outputs": [],
   "source": []
  }
 ],
 "metadata": {
  "kernelspec": {
   "display_name": ".venv",
   "language": "python",
   "name": "python3"
  },
  "language_info": {
   "codemirror_mode": {
    "name": "ipython",
    "version": 3
   },
   "file_extension": ".py",
   "mimetype": "text/x-python",
   "name": "python",
   "nbconvert_exporter": "python",
   "pygments_lexer": "ipython3",
   "version": "3.13.0"
  }
 },
 "nbformat": 4,
 "nbformat_minor": 2
}
